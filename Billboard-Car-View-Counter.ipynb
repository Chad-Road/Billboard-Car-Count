{
 "cells": [
  {
   "cell_type": "code",
   "execution_count": 553,
   "metadata": {},
   "outputs": [],
   "source": [
    "import pandas as pd\n",
    "import numpy as np\n",
    "import requests as rq\n",
    "import cv2 as cv\n",
    "from PIL import Image"
   ]
  },
  {
   "cell_type": "code",
   "execution_count": 554,
   "metadata": {},
   "outputs": [],
   "source": [
    "# car_haar_cascade = \"C:\\\\Coding\\\\GitHub\\\\Billboard-Car-Count\\\\car_detection_haar.xml\"\n",
    "\n",
    "traffic_video_one = \"C:\\\\Coding\\\\GitHub\\\\Billboard-Car-Count\\\\media\\\\traffic_one.mp4\"\n",
    "traffic_video_two = \"C:\\\\Coding\\\\GitHub\\\\Billboard-Car-Count\\\\media\\\\traffic_two.mp4\"\n",
    "traffic_video_three = \"C:\\\\Coding\\\\GitHub\\\\Billboard-Car-Count\\\\media\\\\traffic_three.mp4\"\n",
    "traffic_video_four = \"C:\\\\Coding\\\\GitHub\\\\Billboard-Car-Count\\\\media\\\\traffic_four.mp4\"\n",
    "\n",
    "video_height = 360\n",
    "video_width = 640"
   ]
  },
  {
   "cell_type": "code",
   "execution_count": 555,
   "metadata": {},
   "outputs": [],
   "source": [
    "carscrossedup = 0  # keeps track of cars that crossed up\n",
    "carscrosseddown = 0  # keeps track of cars that crossed down\n",
    "\n",
    "frame_number = 0\n",
    "cars_crossed_line = 0\n",
    "total_cars_seen = 0\n",
    "\n",
    "car_ids = []\n",
    "car_ids_crossed = []"
   ]
  },
  {
   "cell_type": "code",
   "execution_count": 556,
   "metadata": {},
   "outputs": [],
   "source": [
    "video_capture = cv.VideoCapture(traffic_video_four)\n",
    "\n",
    "# The numbers in set are property identifiers 3 = width, 4 = height\n",
    "# This sets video height and width to predetermined height and width\n",
    "video_capture.set(3, video_width)\n",
    "video_capture.set(4, video_height)\n",
    "\n",
    "# car_cascade_classifier = cv.CascadeClassifier(car_haar_cascade)\n",
    "\n",
    "# 0x7634706d is used to force videowriter to output mp4 if other conflicts exist\n",
    "video_result = cv.VideoWriter('video_result.mp4', 0x7634706d, 15.0, (video_width, video_height))\n",
    "\n",
    "background_subtractor = cv.createBackgroundSubtractorKNN()\n"
   ]
  },
  {
   "cell_type": "code",
   "execution_count": 557,
   "metadata": {},
   "outputs": [],
   "source": [
    "# video_result = cv.VideoWriter('video_result.mp4', 0x7634706d, 15.0, (video_width, video_height))\n",
    "\n",
    "# while True:\n",
    "#     return_val, captured_image = video_capture.read()\n",
    "\n",
    "#     if (type(captured_image) == type(None)):\n",
    "#         break\n",
    "\n",
    "#     to_grayscale = cv.cvtColor(captured_image, cv.COLOR_BGR2GRAY)\n",
    "\n",
    "#     car_detected = car_cascade_classifier.detectMultiScale(to_grayscale, 1.1, 2)\n",
    "\n",
    "#     for (x_cord, y_cord, width, height) in car_detected:\n",
    "#         cv.rectangle(captured_image, (x_cord, y_cord), (x_cord+width, y_cord+height), (0, 255, 255), 2)\n",
    "\n",
    "#     video_result.write(captured_image)\n",
    "# video_result.release()\n",
    "# cv.destroyAllWindows()"
   ]
  },
  {
   "cell_type": "code",
   "execution_count": 558,
   "metadata": {},
   "outputs": [],
   "source": [
    "\n",
    "video_result = cv.VideoWriter('video_result.mp4', 0x7634706d, 15.0, (video_width, video_height), isColor=False)\n",
    "\n",
    "while True:\n",
    "    return_val, captured_image = video_capture.read()\n",
    "\n",
    "    if (type(captured_image) == type(None)):\n",
    "        break\n",
    "\n",
    "    # Changes image to grayscale\n",
    "    gray_image = cv.cvtColor(captured_image, cv.COLOR_BGR2GRAY)\n",
    "\n",
    "    foreground_mask = background_subtractor.apply(gray_image, None, .01)\n",
    "\n",
    "    # Slight blur to eliminate some nosie\n",
    "    grayed_blured_image = cv.blur(foreground_mask, (3, 3))\n",
    "\n",
    "    # Removes grays and returns black and white (binary) image\n",
    "    return_val, binary_image = cv.threshold(grayed_blured_image, 80, 255, cv.THRESH_BINARY)\n",
    "\n",
    "##############\n",
    "\n",
    "\n",
    "\n",
    "    \n",
    "\n",
    "    video_result.write(binary_image)\n",
    "video_result.release()\n",
    "cv.destroyAllWindows()"
   ]
  }
 ],
 "metadata": {
  "kernelspec": {
   "display_name": "Python 3.8.12",
   "language": "python",
   "name": "python3"
  },
  "language_info": {
   "codemirror_mode": {
    "name": "ipython",
    "version": 3
   },
   "file_extension": ".py",
   "mimetype": "text/x-python",
   "name": "python",
   "nbconvert_exporter": "python",
   "pygments_lexer": "ipython3",
   "version": "3.8.13"
  },
  "orig_nbformat": 4,
  "vscode": {
   "interpreter": {
    "hash": "c9863aaacdf44e486c6a893cb405d6222718f8a5f2914b2269202d74e2ff0f14"
   }
  }
 },
 "nbformat": 4,
 "nbformat_minor": 2
}
